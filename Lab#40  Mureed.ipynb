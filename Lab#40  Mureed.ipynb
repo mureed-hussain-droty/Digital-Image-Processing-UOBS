{
 "cells": [
  {
   "cell_type": "code",
   "execution_count": 4,
   "id": "a61d51d6-6368-46da-b684-9aa03dd96777",
   "metadata": {},
   "outputs": [],
   "source": [
    "import warnings"
   ]
  },
  {
   "cell_type": "markdown",
   "id": "f2469300-d8cb-4765-b5a7-e98dc4d47bd3",
   "metadata": {},
   "source": [
    "imports Python's warnings module, which allows control over warning messages generated during code execution."
   ]
  },
  {
   "cell_type": "code",
   "execution_count": 5,
   "id": "c70afaae-98f3-4778-8151-92b63a2c343c",
   "metadata": {},
   "outputs": [],
   "source": [
    "import os"
   ]
  },
  {
   "cell_type": "markdown",
   "id": "9232b020-b7f2-49be-9637-df1e53c9dd49",
   "metadata": {},
   "source": [
    "imports Python's os module, which provides functions to interact with the operating system. With os, you can perform tasks such as:\n",
    "\n",
    "File and Directory Operations: Create, delete, and navigate files and directories.\n",
    "Environment Variables: Access and modify environment variables.\n",
    "Process Management: Start, terminate, and manage processes."
   ]
  },
  {
   "cell_type": "code",
   "execution_count": 6,
   "id": "e7377cdd-8c68-4dfe-9e5d-4f43caa1d885",
   "metadata": {},
   "outputs": [],
   "source": [
    "import pandas as pd"
   ]
  },
  {
   "cell_type": "markdown",
   "id": "b0c5c9c0-1693-405d-859a-6e9fdd0e81ff",
   "metadata": {},
   "source": [
    "import pandas as pd brings in pandas, a library for data manipulation and analysis. It’s used to:\n",
    "\n",
    "Load data from files like CSV or Excel.\n",
    "Clean data by handling missing values or filtering rows.\n",
    "Analyze data with grouping, aggregation, and calculations.\n",
    "Organize data in tables (DataFrames) for easy processing."
   ]
  },
  {
   "cell_type": "code",
   "execution_count": 7,
   "id": "b5491c67-a95c-4517-b241-603c78d5b058",
   "metadata": {},
   "outputs": [],
   "source": [
    "import numpy as np\n"
   ]
  },
  {
   "cell_type": "markdown",
   "id": "19bf3e9f-4ccd-4cff-a9d1-c7c99dce8201",
   "metadata": {},
   "source": [
    "import numpy as np imports numpy, a library for numerical operations in Python. It’s mainly used to:\n",
    "\n",
    "Create Arrays: Work with powerful multi-dimensional arrays and matrices.\n",
    "Perform Math Operations: Quickly execute mathematical operations on arrays (e.g., sum, mean).\n",
    "Efficient Computations: Process large datasets faster than traditional Python lists."
   ]
  },
  {
   "cell_type": "code",
   "execution_count": 8,
   "id": "64169b46-a13b-4f24-881d-26d4c60918a8",
   "metadata": {},
   "outputs": [],
   "source": [
    "import matplotlib.pyplot as plt\n",
    "%matplotlib inline"
   ]
  },
  {
   "cell_type": "markdown",
   "id": "569beee4-7d5d-428d-a001-4611de1b3fd5",
   "metadata": {},
   "source": [
    "import matplotlib.pyplot as plt: Imports matplotlib.pyplot with the alias plt, which is used for creating visualizations like line charts, bar charts, histograms, etc."
   ]
  },
  {
   "cell_type": "markdown",
   "id": "d2f22fd3-4970-4276-97b2-df8b624166cf",
   "metadata": {},
   "source": [
    "%matplotlib inline: Ensures that plots display directly in Jupyter Notebook cells right after running the code. It’s helpful for quickly viewing and analyzing data visualizations in notebooks."
   ]
  },
  {
   "cell_type": "code",
   "execution_count": 9,
   "id": "b91cdb5f-d329-48bb-a4d7-21bdee7b92fb",
   "metadata": {},
   "outputs": [],
   "source": [
    "from matplotlib import pyplot"
   ]
  },
  {
   "cell_type": "markdown",
   "id": "91b67c4c-85cd-402f-9475-ac95ecb045a6",
   "metadata": {},
   "source": [
    "from matplotlib import pyplot imports the pyplot module from matplotlib, allowing you to create and customize plots directly using pyplot functions, like pyplot.plot() for line graphs or pyplot.scatter() for scatter plots."
   ]
  },
  {
   "cell_type": "code",
   "execution_count": 10,
   "id": "b5ae864b-52be-4b8f-bf46-417e09db54a6",
   "metadata": {},
   "outputs": [],
   "source": [
    "import seaborn as sns"
   ]
  },
  {
   "cell_type": "markdown",
   "id": "50d1915f-fa3f-4354-b48f-e12fa11d5e13",
   "metadata": {},
   "source": [
    "import seaborn as sns imports the Seaborn library, which is built on top of Matplotlib. It is used for:\n",
    "\n",
    "Statistical Data Visualization: Easily create attractive and informative visualizations for complex datasets.\n",
    "Built-in Themes: Provides enhanced visual styles and color palettes for better aesthetics.\n",
    "Advanced Plots: Simplifies the creation of complex plots like heatmaps, violin plots, and pair plots."
   ]
  },
  {
   "cell_type": "code",
   "execution_count": 11,
   "id": "f51a369f-92f5-40d7-bd30-7eec8bbbd26f",
   "metadata": {},
   "outputs": [
    {
     "name": "stdout",
     "output_type": "stream",
     "text": [
      "Requirement already satisfied: seaborn in c:\\users\\administrator\\appdata\\local\\programs\\python\\python310\\lib\\site-packages (0.13.2)\n",
      "Requirement already satisfied: numpy!=1.24.0,>=1.20 in c:\\users\\administrator\\appdata\\local\\programs\\python\\python310\\lib\\site-packages (from seaborn) (1.26.4)\n",
      "Requirement already satisfied: pandas>=1.2 in c:\\users\\administrator\\appdata\\local\\programs\\python\\python310\\lib\\site-packages (from seaborn) (2.2.3)\n",
      "Requirement already satisfied: matplotlib!=3.6.1,>=3.4 in c:\\users\\administrator\\appdata\\local\\programs\\python\\python310\\lib\\site-packages (from seaborn) (3.9.2)\n",
      "Requirement already satisfied: contourpy>=1.0.1 in c:\\users\\administrator\\appdata\\local\\programs\\python\\python310\\lib\\site-packages (from matplotlib!=3.6.1,>=3.4->seaborn) (1.3.0)\n",
      "Requirement already satisfied: cycler>=0.10 in c:\\users\\administrator\\appdata\\local\\programs\\python\\python310\\lib\\site-packages (from matplotlib!=3.6.1,>=3.4->seaborn) (0.12.1)\n",
      "Requirement already satisfied: fonttools>=4.22.0 in c:\\users\\administrator\\appdata\\local\\programs\\python\\python310\\lib\\site-packages (from matplotlib!=3.6.1,>=3.4->seaborn) (4.54.1)\n",
      "Requirement already satisfied: kiwisolver>=1.3.1 in c:\\users\\administrator\\appdata\\local\\programs\\python\\python310\\lib\\site-packages (from matplotlib!=3.6.1,>=3.4->seaborn) (1.4.7)\n",
      "Requirement already satisfied: packaging>=20.0 in c:\\users\\administrator\\appdata\\local\\programs\\python\\python310\\lib\\site-packages (from matplotlib!=3.6.1,>=3.4->seaborn) (24.1)\n",
      "Requirement already satisfied: pillow>=8 in c:\\users\\administrator\\appdata\\local\\programs\\python\\python310\\lib\\site-packages (from matplotlib!=3.6.1,>=3.4->seaborn) (11.0.0)\n",
      "Requirement already satisfied: pyparsing>=2.3.1 in c:\\users\\administrator\\appdata\\local\\programs\\python\\python310\\lib\\site-packages (from matplotlib!=3.6.1,>=3.4->seaborn) (3.2.0)\n",
      "Requirement already satisfied: python-dateutil>=2.7 in c:\\users\\administrator\\appdata\\local\\programs\\python\\python310\\lib\\site-packages (from matplotlib!=3.6.1,>=3.4->seaborn) (2.9.0.post0)\n",
      "Requirement already satisfied: pytz>=2020.1 in c:\\users\\administrator\\appdata\\local\\programs\\python\\python310\\lib\\site-packages (from pandas>=1.2->seaborn) (2024.2)\n",
      "Requirement already satisfied: tzdata>=2022.7 in c:\\users\\administrator\\appdata\\local\\programs\\python\\python310\\lib\\site-packages (from pandas>=1.2->seaborn) (2024.2)\n",
      "Requirement already satisfied: six>=1.5 in c:\\users\\administrator\\appdata\\local\\programs\\python\\python310\\lib\\site-packages (from python-dateutil>=2.7->matplotlib!=3.6.1,>=3.4->seaborn) (1.16.0)\n"
     ]
    }
   ],
   "source": [
    "!pip install seaborn"
   ]
  },
  {
   "cell_type": "code",
   "execution_count": 12,
   "id": "2dfa17f3-f9b5-4a40-ac22-61961731d135",
   "metadata": {},
   "outputs": [],
   "source": [
    "import tensorflow"
   ]
  },
  {
   "cell_type": "markdown",
   "id": "5babf58d-8ff7-4fbb-9779-e6e475564887",
   "metadata": {},
   "source": [
    "import tensorflow imports the TensorFlow library, which is used for:\n",
    "\n",
    "Machine Learning: Building and training machine learning models, especially deep learning models.\n",
    "Neural Networks: Creating and training neural networks using high-level APIs like Keras.\n",
    "Tensor Operations: Performing efficient numerical computations on tensors (multi-dimensional arrays).\n",
    "TensorFlow is widely used for developing AI applications, including image and speech recognition, natural language processing, and more.\n",
    "\n",
    "\n",
    "\n",
    "\n",
    "\n",
    "\n"
   ]
  },
  {
   "cell_type": "code",
   "execution_count": 13,
   "id": "c31d21c2-c43d-4b5a-8e01-ad515e6c4ada",
   "metadata": {},
   "outputs": [
    {
     "name": "stdout",
     "output_type": "stream",
     "text": [
      "2.17.0\n"
     ]
    }
   ],
   "source": [
    "print(tensorflow.__version__)"
   ]
  },
  {
   "cell_type": "markdown",
   "id": "5034e580-64fa-4b47-999f-a0500df00f9f",
   "metadata": {},
   "source": [
    "print(tensorflow.__version__) outputs the version number of the TensorFlow library currently installed in your environment. This is useful for:\n",
    "\n",
    "Checking Compatibility: Ensuring that the installed version is compatible with your code or any specific features you want to use.\n",
    "Debugging: Identifying issues related to specific versions if you encounter errors or unexpected behavior."
   ]
  },
  {
   "cell_type": "code",
   "execution_count": 14,
   "id": "f9d5f813-6330-47ac-99af-f10fdca5809d",
   "metadata": {},
   "outputs": [],
   "source": [
    "warnings.filterwarnings('ignore')"
   ]
  },
  {
   "cell_type": "markdown",
   "id": "87fc2dcb-0aea-452c-b4f8-bdbda507cdb8",
   "metadata": {},
   "source": [
    "warnings.filterwarnings('ignore') is used to suppress warning messages that may be generated during the execution of  code. This means:\n",
    "\n",
    "Cleaner Output: It prevents warnings from cluttering the console, allowing you to focus on important messages or errors.\n",
    "Ignoring Non-Critical Warnings: Useful when you know certain warnings can be safely ignored, such as deprecated features or minor issues that don't affect the execution of your code.\n",
    "However, be cautious with this approach, as it can hide important warnings that might indicate potential problems."
   ]
  },
  {
   "cell_type": "code",
   "execution_count": 15,
   "id": "14e35bfd-9cce-43f9-b0f6-f19e769e465d",
   "metadata": {},
   "outputs": [],
   "source": [
    "pd.options.display.max_columns=None"
   ]
  },
  {
   "cell_type": "markdown",
   "id": "366f9d20-cf06-4690-82a8-8e809918c751",
   "metadata": {},
   "source": [
    "pd.options.display.max_columns = None sets the maximum number of columns that Pandas will display when printing DataFrames to None, meaning:\n",
    "\n",
    "Show All Columns: It allows Pandas to display all columns in a DataFrame without truncation, regardless of how many there are.\n",
    "Better Visualization: This is useful when you want to view the entire dataset structure at once, especially for wide DataFrames with many"
   ]
  },
  {
   "cell_type": "code",
   "execution_count": 16,
   "id": "0226a474-9a28-4ea7-bae1-e40ce4af1fff",
   "metadata": {},
   "outputs": [],
   "source": [
    "pd.options.display.float_format='{:.7f}'.format"
   ]
  },
  {
   "cell_type": "markdown",
   "id": "a4cd783f-e5d3-40a5-a693-87f927fb17fd",
   "metadata": {},
   "source": [
    "pd.options.display.float_format = '{:.7f}'.format sets the format for displaying floating-point numbers in Pandas DataFrames to seven decimal places. This means:\n",
    "\n",
    "Consistent Formatting: When you print a DataFrame, all float values will be displayed with seven digits after the decimal point.\n",
    "Improved Readability: This helps in maintaining a consistent view of numerical data, making it easier to read and compare values.\n",
    "For example, a number like 3.141592653589793 would be displayed as 3.1415927."
   ]
  },
  {
   "cell_type": "code",
   "execution_count": 17,
   "id": "19adb7ff-4bc7-40c7-aa87-301dc8b17de1",
   "metadata": {},
   "outputs": [],
   "source": [
    "pd.options.display.max_rows=None"
   ]
  },
  {
   "cell_type": "markdown",
   "id": "6b303577-f23c-4510-8aed-4fee90f73dab",
   "metadata": {},
   "source": [
    "pd.options.display.max_rows = None sets the maximum number of rows that Pandas will display when printing DataFrames to None, meaning:\n",
    "\n",
    "Show All Rows: It allows Pandas to display all rows in a DataFrame without truncation, regardless of how many there are.\n",
    "Complete Data View: This is useful when you want to inspect the entire dataset at once, especially for smaller DataFrames, ensuring"
   ]
  },
  {
   "cell_type": "code",
   "execution_count": 18,
   "id": "4373098b-a3e9-4bfa-ba97-68f42eb8c34a",
   "metadata": {},
   "outputs": [],
   "source": [
    "#Reading the .h5 file and assign to a variable"
   ]
  },
  {
   "cell_type": "code",
   "execution_count": 19,
   "id": "67e7cf51-762e-4a54-bd63-9c5b7f788587",
   "metadata": {},
   "outputs": [],
   "source": [
    "import h5py"
   ]
  },
  {
   "cell_type": "markdown",
   "id": "f0ca576b-618d-4724-9f3f-cfc44c5931c1",
   "metadata": {},
   "source": [
    "import h5py imports the h5py library, which is used for reading and writing HDF5 (Hierarchical Data Format version 5) files. This library allows you to:\n",
    "\n",
    "Read Data: Access datasets stored in HDF5 files, which can be very large and complex.\n",
    "Write Data: Save arrays and data structures in an efficient format.\n",
    "Hierarchical Data Storage: Organize data in a file structure that supports groups and datasets, making it suitable for large-scale data storage.\n",
    "HDF5 is commonly used in scientific computing, deep learning, and data analysis due to its ability to handle large datasets efficiently."
   ]
  },
  {
   "cell_type": "code",
   "execution_count": 23,
   "id": "8e372343-45dd-4541-b611-d963c6a14178",
   "metadata": {},
   "outputs": [],
   "source": [
    "ds=h5py.File(r\"D:\\6th sem fall 24\\Digital image Processing\\Project\\Autonomous_Vehicles_SVHN_single_grey1.h5\")"
   ]
  },
  {
   "cell_type": "markdown",
   "id": "21325cb2-554a-4de8-b9dd-159c422e866a",
   "metadata": {},
   "source": [
    "After this line, you can access datasets within the file using ds['dataset_name'], read the data, and explore its structure."
   ]
  },
  {
   "cell_type": "code",
   "execution_count": 24,
   "id": "f24beec5-b08b-46f7-9b42-441194c187be",
   "metadata": {},
   "outputs": [
    {
     "data": {
      "text/plain": [
       "<KeysViewHDF5 ['X_test', 'X_train', 'X_val', 'y_test', 'y_train', 'y_val']>"
      ]
     },
     "execution_count": 24,
     "metadata": {},
     "output_type": "execute_result"
    }
   ],
   "source": [
    "ds.keys()"
   ]
  },
  {
   "cell_type": "markdown",
   "id": "e7b702e4-f5db-4a48-8dc0-5bb376de0a11",
   "metadata": {},
   "source": [
    "ds.keys() retrieves the names of all groups and datasets stored in the opened HDF5 file (ds). It returns a list-like object containing the keys, which represent the top-level elements within the file. This is useful for:\n",
    "\n",
    "Exploring the Structure: You can see what data is available in the HDF5 file and how it is organized.\n",
    "Accessing Specific Datasets: Knowing the keys helps you decide which datasets you want to read or manipulate further.\n",
    "For example, if your HDF5 file contains datasets like X_train, y_train, X_test, and y_test, ds.keys() will return those names."
   ]
  },
  {
   "cell_type": "markdown",
   "id": "081524e6-9243-40f2-98c9-d89a7fe19719",
   "metadata": {},
   "source": [
    "#Split the data into X_train,X_test,y_train,y_test\n",
    "#load the training, test and validation set"
   ]
  },
  {
   "cell_type": "code",
   "execution_count": 26,
   "id": "79eb24cf-64f5-4898-849c-083943066009",
   "metadata": {},
   "outputs": [],
   "source": [
    "x_train=ds['X_train'][:]\n",
    "y_train=ds['y_train'][:]\n",
    "X_test=ds['X_test'][:]\n",
    "y_test=ds['y_test'][:]\n"
   ]
  },
  {
   "cell_type": "markdown",
   "id": "20739c85-1e17-4478-ab12-17c342cd08fb",
   "metadata": {},
   "source": [
    "Access Datasets: They access specific datasets (X_train, y_train, X_test, and y_test) from the opened HDF5 file (ds).\n",
    "\n",
    "Read All Data: The [:] syntax is used to read all the data from these datasets into NumPy arrays:\n",
    "\n",
    "X_train: Contains the training images.\n",
    "\n",
    "y_train: Contains the training labels.\n",
    "\n",
    "X_test: Contains the test images.\n",
    "\n",
    "y_test: Contains the test labels.\n",
    "\n",
    "Assign to Variables: The data is assigned to the variables X_train, y_train, X_test, and y_test for further processing or model training.\n",
    "\n",
    "This effectively loads the data from the HDF5 file into your Python environment for use in your machine learning or data analysis tasks.\n",
    "\n",
    "\n",
    "\n",
    "\n",
    "\n",
    "\n"
   ]
  },
  {
   "cell_type": "code",
   "execution_count": 27,
   "id": "0204b861-7c67-46e0-b85c-3e0b470a3d02",
   "metadata": {},
   "outputs": [
    {
     "data": {
      "text/plain": [
       "(42000, 32, 32)"
      ]
     },
     "execution_count": 27,
     "metadata": {},
     "output_type": "execute_result"
    }
   ],
   "source": [
    "x_train.shape"
   ]
  },
  {
   "cell_type": "code",
   "execution_count": 28,
   "id": "22985b56-51c1-4a9a-9c0b-2abcc877d4e6",
   "metadata": {},
   "outputs": [
    {
     "data": {
      "text/plain": [
       "(18000, 32, 32)"
      ]
     },
     "execution_count": 28,
     "metadata": {},
     "output_type": "execute_result"
    }
   ],
   "source": [
    "X_test.shape"
   ]
  },
  {
   "cell_type": "code",
   "execution_count": 29,
   "id": "ab02d795-ab74-435c-a9a1-f3086916366f",
   "metadata": {},
   "outputs": [
    {
     "data": {
      "text/plain": [
       "(42000,)"
      ]
     },
     "execution_count": 29,
     "metadata": {},
     "output_type": "execute_result"
    }
   ],
   "source": [
    "y_train.shape"
   ]
  },
  {
   "cell_type": "code",
   "execution_count": 30,
   "id": "d64dff6e-3988-4ae2-b4d7-5cf6ef188d66",
   "metadata": {},
   "outputs": [
    {
     "data": {
      "text/plain": [
       "(18000,)"
      ]
     },
     "execution_count": 30,
     "metadata": {},
     "output_type": "execute_result"
    }
   ],
   "source": [
    "y_test.shape"
   ]
  },
  {
   "cell_type": "code",
   "execution_count": 31,
   "id": "7d7d23e6-b9da-463f-9a0f-39c9cee86174",
   "metadata": {},
   "outputs": [],
   "source": [
    "def img_lab(n):\n",
    " plt.figure(figsize=(n,1))\n",
    " for i in range(n):\n",
    "     plt.subplot(1,n,i+1)\n",
    "     plt.imshow(x_train[i],cmap='gray')\n",
    "     plt.axis('off')\n",
    " plt.show()\n",
    " print('label for each of the above image:%s'%(y_train[0:n]))\n"
   ]
  },
  {
   "cell_type": "markdown",
   "id": "2a21f7ad-b9cf-40e3-b728-d6a69d5371f1",
   "metadata": {},
   "source": [
    "The img_lab function is designed to visualize a specified number of images from the dataset and display their corresponding labels. Here’s a breakdown of its components:\n",
    "\n",
    "Function Definition:\n",
    "\n",
    "def img_lab(n):\n",
    "This line defines a function named img_lab, which takes one parameter n. This parameter indicates how many images to display.\n",
    "Create a New Figure:\n",
    "\n",
    "plt.figure(figsize=(n, 1))\n",
    "This initializes a new figure for plotting with a specified size. The width is set to n (number of images) and the height is set to 1, arranging images horizontally.\n",
    "Loop Through Images:\n",
    "\n",
    "for i in range(n):\n",
    "This loop iterates n times, allowing access to the first n images in the dataset.\n",
    "Create Subplots:\n",
    "\n",
    "plt.subplot(1, n, i + 1)\n",
    "This creates a subplot in a grid layout with 1 row and n columns. The i + 1 argument specifies the current subplot index.\n",
    "Display Images:\n",
    "\n",
    "plt.imshow(x_train[i], cmap='gray')\n",
    "This displays the i-th image from the x_train dataset using a grayscale colormap (cmap='gray').\n",
    "Hide Axes:\n",
    "\n",
    "plt.axis('off')\n",
    "This turns off the axis ticks and labels for a cleaner visual presentation of the images.\n",
    "Show the Plot:\n",
    "\n",
    "plt.show()\n",
    "This line renders the figure with the images in the display.\n",
    "Print Labels:\n",
    "\n",
    "print('label for each of the above image:%s'%(y_train[0:n]))\n",
    "This prints the labels corresponding to the displayed images, pulling the first n labels from the y_train dataset.\n",
    "Summary\n",
    "The img_lab function visualizes the first n images from the training dataset and prints their corresponding labels, allowing for a quick"
   ]
  },
  {
   "cell_type": "code",
   "execution_count": 32,
   "id": "0c6d29ad-f3c4-4c92-a91b-2688a0122c18",
   "metadata": {},
   "outputs": [
    {
     "data": {
      "image/png": "[encoded data removed]",
      "text/plain": [
       "<Figure size 1000x100 with 10 Axes>"
      ]
     },
     "metadata": {},
     "output_type": "display_data"
    },
    {
     "name": "stdout",
     "output_type": "stream",
     "text": [
      "label for each of the above image:[2 6 7 4 4 0 3 0 7 3]\n"
     ]
    }
   ],
   "source": [
    "img_lab(10)"
   ]
  },
  {
   "cell_type": "code",
   "execution_count": 33,
   "id": "77fd5364-90ec-41e3-a760-ad4239189e1b",
   "metadata": {},
   "outputs": [],
   "source": [
    "# Reshape all the images with appropriate shape update the data in same variriable\n",
    "#Normalize the images i.e. Normalise the pixel values."
   ]
  },
  {
   "cell_type": "code",
   "execution_count": 34,
   "id": "fe646747-8030-4e6b-814d-bfff41fd2497",
   "metadata": {},
   "outputs": [
    {
     "data": {
      "text/plain": [
       "(42000, 32, 32)"
      ]
     },
     "execution_count": 34,
     "metadata": {},
     "output_type": "execute_result"
    }
   ],
   "source": [
    "x_train.shape\n"
   ]
  },
  {
   "cell_type": "code",
   "execution_count": 35,
   "id": "1d6a3d73-2352-4671-b423-801e7777915e",
   "metadata": {},
   "outputs": [],
   "source": [
    "X_train=x_train.reshape(x_train.shape[0],1024,1)\n",
    "X_test=X_test.reshape(X_test.shape[0],1024,1)\n"
   ]
  },
  {
   "cell_type": "markdown",
   "id": "3159c88e-fe03-4385-832d-ac2c0b75dff1",
   "metadata": {},
   "source": [
    "This reshaping step is crucial for allowing the CNN to process the images correctly, making sure that both training and test data have the same structure. Each image will now have dimensions suitable for input into the model."
   ]
  },
  {
   "cell_type": "code",
   "execution_count": 36,
   "id": "91a7cdf3-525c-45f0-a39f-a12a27676ba8",
   "metadata": {},
   "outputs": [],
   "source": [
    "#normalize inputs from 0 -255 to 0 to 1\n",
    "X_train=X_train/255.0\n",
    "X_test=X_test/255.0\n"
   ]
  },
  {
   "cell_type": "markdown",
   "id": "e3669ce4-b5c7-4d18-a9f7-ac795fdb5bd9",
   "metadata": {},
   "source": [
    "Normalization is an important preprocessing step that ensures all input features (in this case, pixel values) are on a similar scale, which can enhance the training of neural networks and lead to better performance. After normalization, all pixel values will fall between 0 and 1."
   ]
  },
  {
   "cell_type": "code",
   "execution_count": 37,
   "id": "46d248a1-1f32-43a4-8f83-e9c2fe64208d",
   "metadata": {
    "collapsed": true,
    "jupyter": {
     "outputs_hidden": true
    }
   },
   "outputs": [
    {
     "name": "stdout",
     "output_type": "stream",
     "text": [
      "Resized Training set (42000, 1024, 1) (42000,)\n",
      "Resized Test set (18000, 1024, 1) (18000,)\n"
     ]
    }
   ],
   "source": [
    "print('Resized Training set',X_train.shape,y_train.shape)\n",
    "print('Resized Test set',X_test.shape,y_test.shape)\n"
   ]
  },
  {
   "cell_type": "markdown",
   "id": "c1349470-4a9a-494e-ad85-5756d9b2f34b",
   "metadata": {},
   "source": [
    "These print statements are useful for verifying that the training and test datasets have been resized and normalized correctly, ensuring that the model receives the data in the expected format."
   ]
  },
  {
   "cell_type": "code",
   "execution_count": 38,
   "id": "4a8649a3-c3e3-4537-bcda-72d12c71ad8b",
   "metadata": {},
   "outputs": [
    {
     "name": "stdout",
     "output_type": "stream",
     "text": [
      "THe number of classes in this dataset are: 10\n"
     ]
    }
   ],
   "source": [
    "from tensorflow.keras.utils import to_categorical\n",
    "#one hot encode outputs\n",
    "y_train=to_categorical(y_train)\n",
    "y_test=to_categorical(y_test)\n",
    "#no. of classes\n",
    "num_classes=y_test.shape[1]\n",
    "print('THe number of classes in this dataset are:',num_classes)"
   ]
  },
  {
   "cell_type": "markdown",
   "id": "d611d462-2e33-43e3-a311-6ad066f4caec",
   "metadata": {},
   "source": [
    "One-hot encoding is crucial for converting categorical labels into a format suitable for neural network training, as it allows the model to output probabilities for each class. This code ensures that the output labels are transformed correctly and also counts how many classes are present in the dataset for reference."
   ]
  },
  {
   "cell_type": "code",
   "execution_count": 39,
   "id": "8f592f67-7540-43c8-93be-2dec6c50d28d",
   "metadata": {},
   "outputs": [],
   "source": [
    "from tensorflow.keras.utils import to_categorical\n",
    "from tensorflow.keras.models import Sequential\n",
    "from tensorflow.keras.layers import Conv2D, MaxPooling2D, Flatten, Dense\n",
    "from tensorflow.keras.optimizers import Adam"
   ]
  },
  {
   "cell_type": "markdown",
   "id": "5e156496-2940-4c83-bc45-33278526d5dd",
   "metadata": {},
   "source": [
    "from tensorflow.keras.utils import to_categorical: Imports the to_categorical function to convert integer class labels into a one-hot encoded format for use in neural networks.\n",
    "\n",
    "from tensorflow.keras.models import Sequential: Imports the Sequential class to allow for the creation of a linear stack of layers in a neural network.\n",
    "\n",
    "from tensorflow.keras.layers import Conv2D, MaxPooling2D, Flatten, Dense: Imports essential layers like convolutional, pooling, flattening, and fully connected layers for building a convolutional neural network (CNN).\n",
    "\n",
    "from tensorflow.keras.optimizers import Adam: Imports the Adam optimizer, a popular optimization algorithm used to minimize the loss function during model training."
   ]
  },
  {
   "cell_type": "code",
   "execution_count": 40,
   "id": "3891efb1-501b-4c8d-abcc-197db75d6f11",
   "metadata": {},
   "outputs": [],
   "source": [
    "from tensorflow.keras.models import Sequential\n",
    "from tensorflow.keras.layers import Conv1D, MaxPooling1D, Flatten, Dense, Dropout\n",
    "\n",
    "def cnn_model():\n",
    "    model = Sequential()\n",
    "    # First convolutional layer\n",
    "    model.add(Conv1D(32, kernel_size=3, activation='relu', input_shape=(1024, 1)))\n",
    "    model.add(MaxPooling1D(pool_size=2))\n",
    "    # Second convolutional layer\n",
    "    model.add(Conv1D(64, kernel_size=3, activation='relu'))\n",
    "    model.add(MaxPooling1D(pool_size=2))\n",
    "    \n",
    " # Third convolutional layer\n",
    "    model.add(Conv1D(128, kernel_size=3, activation='relu'))\n",
    "    model.add(MaxPooling1D(pool_size=2))\n",
    "    # Flatten the output for the dense layers\n",
    "    model.add(Flatten())\n",
    "    # Fully connected layer\n",
    "\n",
    "    model.add(Dense(128, activation='relu'))\n",
    "    model.add(Dropout(0.5)) # Dropout for regularization\n",
    "# Output layer (adjust units based on the number of classes)\n",
    "    model.add(Dense(10, activation='softmax'))\n",
    "    return model\n"
   ]
  },
  {
   "cell_type": "markdown",
   "id": "31860947-828f-4186-8f42-64a0664e3afd",
   "metadata": {},
   "source": [
    "This code defines a convolutional neural network (CNN) architecture suitable for 1D data, utilizing several convolutional and pooling layers followed by fully connected layers to classify the input data into one of ten classes."
   ]
  },
  {
   "cell_type": "code",
   "execution_count": 41,
   "id": "a90a0c59-9557-444f-b99f-a853f1d2591e",
   "metadata": {},
   "outputs": [
    {
     "name": "stdout",
     "output_type": "stream",
     "text": [
      "Epoch 1/5\n",
      "\u001b[1m1313/1313\u001b[0m \u001b[32m━━━━━━━━━━━━━━━━━━━━\u001b[0m\u001b[37m\u001b[0m \u001b[1m107s\u001b[0m 80ms/step - accuracy: 0.2835 - loss: 1.9630 - val_accuracy: 0.6274 - val_loss: 1.1863\n",
      "Epoch 2/5\n",
      "\u001b[1m1313/1313\u001b[0m \u001b[32m━━━━━━━━━━━━━━━━━━━━\u001b[0m\u001b[37m\u001b[0m \u001b[1m103s\u001b[0m 78ms/step - accuracy: 0.5565 - loss: 1.3156 - val_accuracy: 0.6723 - val_loss: 1.0281\n",
      "Epoch 3/5\n",
      "\u001b[1m1313/1313\u001b[0m \u001b[32m━━━━━━━━━━━━━━━━━━━━\u001b[0m\u001b[37m\u001b[0m \u001b[1m101s\u001b[0m 77ms/step - accuracy: 0.5999 - loss: 1.2029 - val_accuracy: 0.6906 - val_loss: 0.9729\n",
      "Epoch 4/5\n",
      "\u001b[1m1313/1313\u001b[0m \u001b[32m━━━━━━━━━━━━━━━━━━━━\u001b[0m\u001b[37m\u001b[0m \u001b[1m100s\u001b[0m 76ms/step - accuracy: 0.6112 - loss: 1.1517 - val_accuracy: 0.7007 - val_loss: 0.9399\n",
      "Epoch 5/5\n",
      "\u001b[1m1313/1313\u001b[0m \u001b[32m━━━━━━━━━━━━━━━━━━━━\u001b[0m\u001b[37m\u001b[0m \u001b[1m107s\u001b[0m 81ms/step - accuracy: 0.6214 - loss: 1.1101 - val_accuracy: 0.7104 - val_loss: 0.9108\n"
     ]
    }
   ],
   "source": [
    "#build the model\n",
    "model = cnn_model()\n",
    "\n",
    "#compile model\n",
    "sgd=Adam(lr=1e-3)\n",
    "\n",
    "#train the classifier using the previously designed Architecture \n",
    "model.compile(optimizer=Adam(), loss='categorical_crossentropy', metrics=['accuracy'])\n",
    "\n",
    "\n",
    "training_history = model.fit(X_train, y_train, validation_data=(X_test, y_test), epochs=5, batch_size=32)\n"
   ]
  },
  {
   "cell_type": "markdown",
   "id": "2775607f-a61b-4ad1-a5fd-4a0341cd330e",
   "metadata": {},
   "source": [
    "This section of code builds a convolutional neural network model, compiles it with the Adam optimizer and categorical crossentropy loss function, and trains the model on the training data while validating it against the test data for a specified number of epochs."
   ]
  },
  {
   "cell_type": "code",
   "execution_count": 43,
   "id": "26b05baa-2cc6-4f9c-8a99-f265506e2131",
   "metadata": {},
   "outputs": [
    {
     "name": "stdout",
     "output_type": "stream",
     "text": [
      "Loss: 0.9108245372772217\n",
      "Accuracy: 0.710444450378418\n"
     ]
    }
   ],
   "source": [
    "scores = model.evaluate(X_test, y_test, verbose=0)\n",
    "print('Loss:', scores[0])\n",
    "print('Accuracy:', scores[1])\n"
   ]
  },
  {
   "cell_type": "markdown",
   "id": "958021f9-063f-46a6-b7f6-7bb914f49407",
   "metadata": {},
   "source": [
    "This segment of code evaluates the trained model on the test dataset and outputs both the loss and accuracy, allowing you to understand how well the model performs after training."
   ]
  },
  {
   "cell_type": "code",
   "execution_count": 44,
   "id": "608067a1-ce0c-4e38-8239-b5a0556cbf12",
   "metadata": {},
   "outputs": [
    {
     "data": {
      "text/plain": [
       "Text(0.5, 1.0, 'Training and validation loss')"
      ]
     },
     "execution_count": 44,
     "metadata": {},
     "output_type": "execute_result"
    },
    {
     "data": {
      "image/png": "[encoded data removed]",
      "text/plain": [
       "<Figure size 640x480 with 1 Axes>"
      ]
     },
     "metadata": {},
     "output_type": "display_data"
    },
    {
     "data": {
      "image/png": "[encoded data removed]",
      "text/plain": [
       "<Figure size 640x480 with 1 Axes>"
      ]
     },
     "metadata": {},
     "output_type": "display_data"
    }
   ],
   "source": [
    "accuracy=training_history.history['accuracy']\n",
    "val_accuracy=training_history.history['val_accuracy']\n",
    "loss=training_history.history['loss']\n",
    "val_loss=training_history.history['val_loss']\n",
    "epochs=range(len(accuracy))\n",
    "plt.plot(epochs,accuracy,label='training accuracy')\n",
    "plt.plot(epochs,val_accuracy,label='validation accuracy')\n",
    "plt.title('Training and validation accuracy')\n",
    "plt.legend(loc='lower right')\n",
    "plt.figure()\n",
    "plt.plot(epochs,loss,label='training loss')\n",
    "plt.plot(epochs,val_loss,label='validation loss')\n",
    "plt.legend(loc='upper right')\n",
    "plt.title('Training and validation loss')\n"
   ]
  },
  {
   "cell_type": "markdown",
   "id": "4a297d60-d3ee-44a5-837b-62f2390f13ae",
   "metadata": {},
   "source": []
  },
  {
   "cell_type": "code",
   "execution_count": null,
   "id": "292c7625-ecab-44f4-affb-c9d65c2b4eae",
   "metadata": {},
   "outputs": [],
   "source": []
  }
 ],
 "metadata": {
  "kernelspec": {
   "display_name": "Python 3 (ipykernel)",
   "language": "python",
   "name": "python3"
  },
  "language_info": {
   "codemirror_mode": {
    "name": "ipython",
    "version": 3
   },
   "file_extension": ".py",
   "mimetype": "text/x-python",
   "name": "python",
   "nbconvert_exporter": "python",
   "pygments_lexer": "ipython3",
   "version": "3.10.11"
  }
 },
 "nbformat": 4,
 "nbformat_minor": 5
}
